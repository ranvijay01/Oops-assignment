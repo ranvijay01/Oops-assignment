{
  "nbformat": 4,
  "nbformat_minor": 0,
  "metadata": {
    "colab": {
      "provenance": []
    },
    "kernelspec": {
      "name": "python3",
      "display_name": "Python 3"
    },
    "language_info": {
      "name": "python"
    }
  },
  "cells": [
    {
      "cell_type": "markdown",
      "source": [
        "# ** -----PRACTICAL QUESTION ------**\n"
      ],
      "metadata": {
        "id": "sAUkodt6vQAT"
      }
    },
    {
      "cell_type": "markdown",
      "source": [
        "1. What is Object-Oriented Programming (OOP)?\n",
        "    \n",
        "-   Object-Oriented Programming (OOP) is a programming paradigm based on the concept of objects, which are instances of classes. OOP allows developers to structure programs using real-world entities, making code more modular, reusable, and easier to maintain."
      ],
      "metadata": {
        "id": "UmxCQqcywXbp"
      }
    },
    {
      "cell_type": "markdown",
      "source": [],
      "metadata": {
        "id": "5SG6wvC8wlWp"
      }
    },
    {
      "cell_type": "markdown",
      "source": [
        "2.  What is a class in OOP?\n",
        "-   A class in Object-Oriented Programming (OOP) is a blueprint or template for creating objects. It defines the attributes (data/properties) and behaviors (methods/functions) that the objects created from the class will have.\n"
      ],
      "metadata": {
        "id": "w0T5yoCiwluM"
      }
    },
    {
      "cell_type": "markdown",
      "source": [
        "3. What is an object in OOP?\n",
        "-  An object in Object-Oriented Programming (OOP) is an instance of a class. It represents a real-world entity with attributes (data) and behaviors (methods/functions) defined by the class.\n"
      ],
      "metadata": {
        "id": "zcqolUp7w3Y9"
      }
    },
    {
      "cell_type": "markdown",
      "source": [
        "4.  What is the difference between abstraction and encapsulation?\n",
        "\n",
        "-    Abstraction hides implementation details and provides only essential features.\n",
        "-    Encapsulation hides internal data and enforces controlled access."
      ],
      "metadata": {
        "id": "iBGFiMMaxOG7"
      }
    },
    {
      "cell_type": "markdown",
      "source": [
        "5.  What are dunder methods in Python?\n",
        "--   Dunder (Double UNDERscore) methods, also known as magic methods, are special methods in Python that start and end with double underscores (__method__). They allow built-in behavior customization for objects, such as initialization, string representation, arithmetic operations, and more.\n",
        "\n",
        "\n"
      ],
      "metadata": {
        "id": "F_RZjkUnxxYC"
      }
    },
    {
      "cell_type": "markdown",
      "source": [
        "6.   Explain the concept of inheritance in OOP?\n",
        "-  Inheritance is a fundamental concept in OOP that allows a class (child or subclass) to inherit properties and behaviors (attributes and methods) from another class (parent or superclass)."
      ],
      "metadata": {
        "id": "RNhVQSXAyRcu"
      }
    },
    {
      "cell_type": "code",
      "source": [
        "#EXAMPLE\n",
        "class Animal:\n",
        "    def sound(self):\n",
        "        print(\"Animals make sounds\")\n",
        "\n",
        "class Dog(Animal):  # Dog inherits from Animal\n",
        "    def bark(self):\n",
        "        print(\"Dog barks\")\n",
        "\n",
        "dog = Dog()\n",
        "dog.sound()\n",
        "dog.bark()\n"
      ],
      "metadata": {
        "colab": {
          "base_uri": "https://localhost:8080/"
        },
        "id": "K-p2geVkyxTN",
        "outputId": "d07d53bd-1303-48f9-ee82-edac155ddd7b"
      },
      "execution_count": 1,
      "outputs": [
        {
          "output_type": "stream",
          "name": "stdout",
          "text": [
            "Animals make sounds\n",
            "Dog barks\n"
          ]
        }
      ]
    },
    {
      "cell_type": "markdown",
      "source": [
        "7. What is polymorphism in OOP?\n",
        "-  Polymorphism means \"many forms.\" In OOP, it allows a single interface to be used for different types of objects, enabling code flexibility and reusability.\n"
      ],
      "metadata": {
        "id": "V95oGf9izFfA"
      }
    },
    {
      "cell_type": "markdown",
      "source": [
        "8.    How is encapsulation achieved in Python?\n",
        "-  Encapsulation is the process of hiding data and restricting direct access to it. In Python, encapsulation is achieved using:\n",
        "\n",
        "   -   Public attributes :- Accessible from anywhere.\n",
        "   -   Protected attributes (_var) :- Indicated as internal but still accessible.\n",
        "  - Private attributes (__var) :- Cannot be accessed directly from outside the class.\n",
        "\n"
      ],
      "metadata": {
        "id": "CRer7F720Tm8"
      }
    },
    {
      "cell_type": "markdown",
      "source": [
        "9.  What is a constructor in Python?\n",
        "-  \n",
        "A constructor in Python is a special method used for initializing an object when it is created. It is defined using the __init__() method inside a class.\n",
        "\n"
      ],
      "metadata": {
        "id": "7ZqlQ0_d1RBE"
      }
    },
    {
      "cell_type": "markdown",
      "source": [
        "10.   What are class and static methods in Python?\n",
        "-    **Class Methods **\n",
        "    - Uses the @classmethod decorator.\n",
        "    - A class method is bound to the class instead of an instance. It can modify class variables and works on the class itself rather than an object.\n",
        "-  **STATIC METHOD **:-\n",
        "   -   A static method is a utility method that does not modify the class or instance. It acts like a regular function inside a class.\n",
        "   -   Uses the @staticmethod decorator."
      ],
      "metadata": {
        "id": "yAwwnBU_1_hP"
      }
    },
    {
      "cell_type": "markdown",
      "source": [
        "11. What is method overloading in Python?\n",
        "-  Method overloading allows a class to have multiple methods with the same name but different parameter lists.\n",
        "-  Python does not support traditional method overloading like some other languages LIKE Java or C++.\n",
        "-  We can simulate overloading behavior using default arguments, variable-length arguments, or conditional logic inside the method.\n",
        "\n",
        "\n"
      ],
      "metadata": {
        "id": "kDclm0A53OE_"
      }
    },
    {
      "cell_type": "markdown",
      "source": [
        "12.  What is method overriding in OOP?\n",
        "-  Method overriding is a concept in object-oriented programming where a subclass (child class) provides its own implementation of a method that is already defined in the parent class (superclass). This allows the child class to modify or extend the behavior of the method inherited from the parent class.\n",
        "\n",
        "\n"
      ],
      "metadata": {
        "id": "pPrH9mY94tUt"
      }
    },
    {
      "cell_type": "markdown",
      "source": [
        "13.  What is a property decorator in Python?\n",
        "-  The property decorator in Python is a built-in decorator used to define getter methods for class attributes in a more readable and Pythonic way. It allows to define a method as an attribute, enabling access to it just like a regular attribute without explicitly calling it as a method i.e. without parentheses.\n",
        "\n",
        "-   This is useful when I want to control access to an attribute.\n"
      ],
      "metadata": {
        "id": "qNbW1cHF5NAh"
      }
    },
    {
      "cell_type": "markdown",
      "source": [
        "14.  Why is polymorphism important in OOP?\n",
        "-  polymorphism is important in oop for many reasons :-\n",
        "    - Code Reusability: Write more generic functions that work with objects of different types.\n",
        "    - Extensibility: Easily extend your program with new classes.\n",
        "    - Cleaner Code: Avoid complex conditionals and make your code more readable.\n",
        "    - Runtime Flexibility: Call methods dynamically at runtime based on the actual object type."
      ],
      "metadata": {
        "id": "Fy0fs7Qx6OxE"
      }
    },
    {
      "cell_type": "markdown",
      "source": [
        "15. What is an abstract class in Python?\n",
        "-   An abstract class in Python is a class that cannot be instantiated directly. It serves as a blueprint for other classes, allowing  to define methods that must be created within any child classes. Abstract classes are used to define common interfaces or behavior that should be shared by all derived classes, while leaving some methods to be implemented by the child classes.\n"
      ],
      "metadata": {
        "id": "vEEsOh-c7RlH"
      }
    },
    {
      "cell_type": "markdown",
      "source": [
        "16. What are the advantages of OOP?\n",
        "-  Modularity: Code is organized into objects and classes, improving structure and clarity.\n",
        "-  Reusability: Inheritance allows for code reuse.\n",
        "-  Maintainability: Easier to maintain and extend with new features.\n",
        "-  Flexibility: Polymorphism makes it easy to use objects of different types\n",
        "   interchangeably.\n",
        "-  Real-World Modeling: OOP aligns well with real-world systems.\n",
        "-  Abstraction: Hides complexity, exposing only necessary details.\n",
        "-  Security: Data hiding ensures better security and controlled access.\n",
        "-  Collaboration: OOP promotes efficient teamwork and collaboration on large\n",
        "   projects."
      ],
      "metadata": {
        "id": "2zucoY2y7u14"
      }
    },
    {
      "cell_type": "markdown",
      "source": [
        "17.  What is the difference between a class variable and an instance variable?\n",
        "-  **Class Variable:** A class variable is shared among all instances of the class. It is defined within the class but outside of any instance methods. Since class variables are shared by all objects, changing the value of a class variable in one object will affect all other objects of the class.\n",
        "\n",
        "-  **Instance Variable:** An instance variable is specific to a particular instance  of the class. Each object created from the class can have its own unique value for the instance variables. Instance variables are usually defined in the __init__ method (the constructor) and are accessed using self.\n",
        "\n",
        "\n"
      ],
      "metadata": {
        "id": "CJn8XTUR8aAH"
      }
    },
    {
      "cell_type": "markdown",
      "source": [
        "18. What is multiple inheritance in Python?\n",
        "-  Multiple inheritance is a feature in Python where a class can inherit attributes and methods from more than one parent class. This means a subclass can derive from more than one superclass, gaining functionality from multiple classes."
      ],
      "metadata": {
        "id": "CuNTMvwi9PUp"
      }
    },
    {
      "cell_type": "markdown",
      "source": [
        "19.  Explain the purpose of '__str__' and '__repr__' methods in Python?\n",
        "-   **Purpose of __str__:**\n",
        "It provides a readable and informal string representation that is shown to the end user when printing the object.\n",
        "\n"
      ],
      "metadata": {
        "id": "Os0TnkNJ9peO"
      }
    },
    {
      "cell_type": "code",
      "source": [
        "class Car:\n",
        "    def __init__(self, make, model):\n",
        "        self.make = make\n",
        "        self.model = model\n",
        "\n",
        "    def __str__(self):\n",
        "        return f\"{self.make} {self.model}\"\n",
        "\n",
        "# Creating an object of the Car class\n",
        "car = Car(\"Toyota\", \"Camry\")\n",
        "\n",
        "# Printing the car object\n",
        "print(car)\n"
      ],
      "metadata": {
        "colab": {
          "base_uri": "https://localhost:8080/"
        },
        "id": "5eCTSNPh-6ka",
        "outputId": "31e32b24-5d61-4a84-a3b8-dba56c3ec73b"
      },
      "execution_count": 2,
      "outputs": [
        {
          "output_type": "stream",
          "name": "stdout",
          "text": [
            "Toyota Camry\n"
          ]
        }
      ]
    },
    {
      "cell_type": "markdown",
      "source": [
        "-  **Purpose of __repr__:**\n",
        "  -  It provides a more formal and unambiguous representation of the object, often used for debugging and logging.\n",
        "  - If we want to recreate an object from its string representation, the output of __repr__ should ideally be executable.\n"
      ],
      "metadata": {
        "id": "iLcQOtJP_FkH"
      }
    },
    {
      "cell_type": "code",
      "source": [
        "class Car:\n",
        "    def __init__(self, make, model):\n",
        "        self.make = make\n",
        "        self.model = model\n",
        "\n",
        "    def __repr__(self):\n",
        "        return f\"Car('{self.make}', '{self.model}')\"\n",
        "\n",
        "# Creating an object of the Car class\n",
        "car = Car(\"Toyota\", \"Camry\")\n",
        "\n",
        "# Printing the car object\n",
        "print(repr(car))\n"
      ],
      "metadata": {
        "colab": {
          "base_uri": "https://localhost:8080/"
        },
        "id": "W3XiRGdN_cgM",
        "outputId": "f26be754-7c9c-4e91-db00-1b2034788278"
      },
      "execution_count": 3,
      "outputs": [
        {
          "output_type": "stream",
          "name": "stdout",
          "text": [
            "Car('Toyota', 'Camry')\n"
          ]
        }
      ]
    },
    {
      "cell_type": "markdown",
      "source": [
        "20.  What is the significance of the \"super()\"function in Python?\n",
        "-    The super() function in Python is a built-in function used to call a method from a parent (super) class. It is commonly used in inheritance to call methods from the base class from within a derived (child) class. This function provides a way to invoke the parent class's methods without explicitly naming the parent class."
      ],
      "metadata": {
        "id": "4tWuH4K4_l-u"
      }
    },
    {
      "cell_type": "markdown",
      "source": [
        "21. What is the significance of the __del__ method in Python?\n",
        "-  The __del__ method in Python is a special (dunder) method that acts as a destructor. It is automatically called when an object is about to be destroyed, i.e., when it is no longer in use or when its reference count drops to zero\n",
        "-  \n"
      ],
      "metadata": {
        "id": "VDFEXE1eACHf"
      }
    },
    {
      "cell_type": "markdown",
      "source": [
        "22.  What is the difference between @staticmethod and @classmethod in Python?\n",
        "-  **@staticmethod:-**\n",
        "    - A static method is a method that doesn't take any reference to the instance (self) or the class (cls).\n",
        "    - It behaves like a regular function but belongs to the class's namespace.\n",
        "    - It is used when the method doesn't need to access or modify the class or instance state, but logically it belongs to the class.\n",
        "    - No access to class or instance: Static methods don't have access to the instance (self) or the class (cls), which means they cannot modify class attributes or instance attributes.\n",
        "\n",
        "-  **@classmethod:-**\n",
        "   - A class method is a method that takes a reference to the class (cls) as its first argument instead of the instance (self).\n",
        "   - Class methods are bound to the class, not the instance, and they can modify class-level attributes.\n",
        "   - Access to class state: Class methods can access and modify class-level attributes  because they have access to the class (cls).\n"
      ],
      "metadata": {
        "id": "M5WEcyIZA3Qj"
      }
    },
    {
      "cell_type": "markdown",
      "source": [
        "23.  How does polymorphism work in Python with inheritance?\n",
        "-   Polymorphism in Python can be achieved through inheritance and method overriding, where a method in a subclass overrides a method in the superclass to provide a class-specific implementation."
      ],
      "metadata": {
        "id": "7h--1jdkCZra"
      }
    },
    {
      "cell_type": "code",
      "source": [
        "# Parent class\n",
        "class Animal:\n",
        "    def speak(self):\n",
        "        raise NotImplementedError()\n",
        "\n",
        "# Subclass 1: Dog\n",
        "class Dog(Animal):\n",
        "    def speak(self):\n",
        "        return \"Woof!\"\n",
        "\n",
        "# Subclass 2: Cat\n",
        "class Cat(Animal):\n",
        "    def speak(self):\n",
        "        return \"Meow!\"\n",
        "\n",
        "# Subclass 3: Cow\n",
        "class Cow(Animal):\n",
        "    def speak(self):\n",
        "        return \"Moo!\"\n",
        "\n",
        "# Polymorphism\n",
        "def make_animal_speak(animal):\n",
        "    print(animal.speak())\n",
        "\n",
        "# Creating objects of different classes\n",
        "dog = Dog()\n",
        "cat = Cat()\n",
        "cow = Cow()\n",
        "\n",
        "# Passing different objects to the same function\n",
        "make_animal_speak(dog)\n",
        "make_animal_speak(cat)\n",
        "make_animal_speak(cow)\n"
      ],
      "metadata": {
        "colab": {
          "base_uri": "https://localhost:8080/"
        },
        "id": "I18k8jV1DA5i",
        "outputId": "b848d2df-1217-44b6-bdd5-90a65dc7aa4e"
      },
      "execution_count": 5,
      "outputs": [
        {
          "output_type": "stream",
          "name": "stdout",
          "text": [
            "Woof!\n",
            "Meow!\n",
            "Moo!\n"
          ]
        }
      ]
    },
    {
      "cell_type": "markdown",
      "source": [
        "24. What is method chaining in Python OOP?\n",
        "-   Method chaining is a programming technique where multiple methods are called on the same object in a single line of code.\n",
        "-  "
      ],
      "metadata": {
        "id": "JycJPkeLDzM9"
      }
    },
    {
      "cell_type": "code",
      "source": [
        "class Person:\n",
        "    def __init__(self, name, age):\n",
        "        self.name = name\n",
        "        self.age = age\n",
        "\n",
        "    def set_name(self, name):\n",
        "        self.name = name\n",
        "        return self  # Return the object to allow method chaining\n",
        "\n",
        "    def set_age(self, age):\n",
        "        self.age = age\n",
        "        return self  # Return the object to allow method chaining\n",
        "\n",
        "    def greet(self):\n",
        "        print(f\"Hello, my name is {self.name} and I am {self.age} years old.\")\n",
        "        return self  # Return the object to allow method chaining\n",
        "\n",
        "# Create an instance of Person and chain methods\n",
        "person = Person(\"Ranvijay\", 22).set_name(\"Ranvijay\").set_age(22).greet()\n"
      ],
      "metadata": {
        "colab": {
          "base_uri": "https://localhost:8080/"
        },
        "id": "OOiaKid7EZ66",
        "outputId": "edadbdeb-ac3a-4295-a0d2-4a8f45b20f2c"
      },
      "execution_count": 6,
      "outputs": [
        {
          "output_type": "stream",
          "name": "stdout",
          "text": [
            "Hello, my name is Ranvijay and I am 22 years old.\n"
          ]
        }
      ]
    },
    {
      "cell_type": "markdown",
      "source": [
        "25.  What is the purpose of the __call__ method in Python?\n",
        "-  The __call__ method allows an instance of a class to be called like a function. This is often referred to as making an object callable. When we define a __call__ method in a class, we enable instances of that class to be invoked directly using parentheses, just like functions."
      ],
      "metadata": {
        "id": "e7P8yqSpEqp3"
      }
    },
    {
      "cell_type": "markdown",
      "source": [
        "# **-----PRACTICAL QUESTION ----**"
      ],
      "metadata": {
        "id": "_c8M9Ie3FO1q"
      }
    },
    {
      "cell_type": "code",
      "source": [
        "\"\"\" Create a parent class Animal with a method speak() that prints a generic message. Create a child class Dog that overrides the speak() method to print \"Bark!\"\"\"\n",
        "# Parent class\n",
        "class Animal:\n",
        "    def speak(self):\n",
        "        print(\"Some generic animal sound\")\n",
        "\n",
        "# Child class\n",
        "class Dog(Animal):\n",
        "    def speak(self):\n",
        "        print(\"Bark!\")\n",
        "\n",
        "# Create instances of both classes\n",
        "animal = Animal()\n",
        "dog = Dog()\n",
        "\n",
        "# Call speak() on both objects\n",
        "animal.speak()\n",
        "dog.speak()\n"
      ],
      "metadata": {
        "colab": {
          "base_uri": "https://localhost:8080/"
        },
        "id": "B3S2wkWfFd3p",
        "outputId": "228c53c1-803f-4b78-b0c3-6ebb9b70db94"
      },
      "execution_count": 7,
      "outputs": [
        {
          "output_type": "stream",
          "name": "stdout",
          "text": [
            "Some generic animal sound\n",
            "Bark!\n"
          ]
        }
      ]
    },
    {
      "cell_type": "code",
      "source": [
        "#  Write a program to create an abstract class Shape with a method area(). Derive classes Circle and Rectangle from it and implement the area() method in both.\n",
        "from abc import ABC, abstractmethod\n",
        "import math\n",
        "\n",
        "# Abstract class Shape\n",
        "class Shape(ABC):\n",
        "    @abstractmethod\n",
        "    def area(self):\n",
        "        pass\n",
        "\n",
        "# Derived class Circle\n",
        "class Circle(Shape):\n",
        "    def __init__(self, radius):\n",
        "        self.radius = radius\n",
        "\n",
        "    def area(self):\n",
        "        return math.pi * self.radius ** 2\n",
        "\n",
        "# Derived class Rectangle\n",
        "class Rectangle(Shape):\n",
        "    def __init__(self, width, height):\n",
        "        self.width = width\n",
        "        self.height = height\n",
        "\n",
        "    def area(self):\n",
        "        return self.width * self.height\n",
        "\n",
        "# Create instances of Circle and Rectangle\n",
        "circle = Circle(5)\n",
        "rectangle = Rectangle(4, 6)\n",
        "\n",
        "# Print areas\n",
        "print(f\"Area of Circle: {circle.area()}\")\n",
        "print(f\"Area of Rectangle: {rectangle.area()}\")\n"
      ],
      "metadata": {
        "colab": {
          "base_uri": "https://localhost:8080/"
        },
        "id": "rtcx18rrGEAe",
        "outputId": "1c921744-6270-43e6-ccea-687a1d878d08"
      },
      "execution_count": 8,
      "outputs": [
        {
          "output_type": "stream",
          "name": "stdout",
          "text": [
            "Area of Circle: 78.53981633974483\n",
            "Area of Rectangle: 24\n"
          ]
        }
      ]
    },
    {
      "cell_type": "code",
      "source": [
        "#  Implement a multi-level inheritance scenario where a class Vehicle has an attribute type. Derive a class Car and further derive a class ElectricCar that adds a battery attribute\n",
        "# Base class\n",
        "class Vehicle:\n",
        "    def __init__(self, vehicle_type):\n",
        "        self.vehicle_type = vehicle_type\n",
        "\n",
        "    def display_type(self):\n",
        "        print(f\"Vehicle Type: {self.vehicle_type}\")\n",
        "\n",
        "# Derived class Car\n",
        "class Car(Vehicle):\n",
        "    def __init__(self, vehicle_type, brand):\n",
        "        super().__init__(vehicle_type)  # Call the constructor of the parent class\n",
        "        self.brand = brand\n",
        "\n",
        "    def display_info(self):\n",
        "        print(f\"Brand: {self.brand}\")\n",
        "\n",
        "# Further derived class ElectricCar\n",
        "class ElectricCar(Car):\n",
        "    def __init__(self, vehicle_type, brand, battery_capacity):\n",
        "        super().__init__(vehicle_type, brand)  # Call the constructor of the parent class (Car)\n",
        "        self.battery_capacity = battery_capacity\n",
        "\n",
        "    def display_battery(self):\n",
        "        print(f\"Battery Capacity: {self.battery_capacity} kWh\")\n",
        "\n",
        "# Create an instance of ElectricCar\n",
        "electric_car = ElectricCar(\"Electric Vehicle\", \"Tesla\", 100)\n",
        "\n",
        "# Call methods from all classes\n",
        "electric_car.display_type()\n",
        "electric_car.display_info()\n",
        "electric_car.display_battery()\n"
      ],
      "metadata": {
        "colab": {
          "base_uri": "https://localhost:8080/"
        },
        "id": "LxmFRmJRGnMe",
        "outputId": "1fc6f941-3bf9-4e33-fc79-3ce52d178cc3"
      },
      "execution_count": 9,
      "outputs": [
        {
          "output_type": "stream",
          "name": "stdout",
          "text": [
            "Vehicle Type: Electric Vehicle\n",
            "Brand: Tesla\n",
            "Battery Capacity: 100 kWh\n"
          ]
        }
      ]
    },
    {
      "cell_type": "code",
      "source": [
        "# Demonstrate polymorphism by creating a base class Bird with a method fly(). Create two derived classes Sparrow and Penguin that override the fly() method.\n",
        "\n",
        "# Base class Bird\n",
        "class Bird:\n",
        "    def fly(self):\n",
        "        print(\"This bird can fly.\")\n",
        "\n",
        "# Derived class Sparrow\n",
        "class Sparrow(Bird):\n",
        "    def fly(self):\n",
        "        print(\"The sparrow flies high in the sky.\")\n",
        "\n",
        "# Derived class Penguin\n",
        "class Penguin(Bird):\n",
        "    def fly(self):\n",
        "        print(\"The penguin cannot fly, but it can swim.\")\n",
        "\n",
        "# Create instances of Sparrow and Penguin\n",
        "sparrow = Sparrow()\n",
        "penguin = Penguin()\n",
        "\n",
        "# Call fly() method on both instances\n",
        "sparrow.fly()\n",
        "penguin.fly()\n"
      ],
      "metadata": {
        "colab": {
          "base_uri": "https://localhost:8080/"
        },
        "id": "y8V_s7LYHEvr",
        "outputId": "c00d0732-1828-4bf5-f580-92c856647f9f"
      },
      "execution_count": 10,
      "outputs": [
        {
          "output_type": "stream",
          "name": "stdout",
          "text": [
            "The sparrow flies high in the sky.\n",
            "The penguin cannot fly, but it can swim.\n"
          ]
        }
      ]
    },
    {
      "cell_type": "code",
      "source": [
        "#  Write a program to demonstrate encapsulation by creating a class BankAccount with private attributes balance and methods to deposit, withdraw, and check balance.\n",
        "# Class to demonstrate encapsulation\n",
        "class BankAccount:\n",
        "    def __init__(self, owner, balance=0):\n",
        "        self.owner = owner\n",
        "        self.__balance = balance\n",
        "\n",
        "    # Method to deposit money\n",
        "    def deposit(self, amount):\n",
        "        if amount > 0:\n",
        "            self.__balance += amount\n",
        "            print(f\"Deposited balance {amount}. Current balance: rupees {self.__balance}\")\n",
        "        else:\n",
        "            print(\"Deposit amount must be greater than zero.\")\n",
        "\n",
        "    # Method to withdraw money\n",
        "    def withdraw(self, amount):\n",
        "        if amount > 0 and amount <= self.__balance:\n",
        "            self.__balance -= amount\n",
        "            print(f\"Withdrew balace : {amount}. Current balance: rupees {self.__balance}\")\n",
        "        else:\n",
        "            print(\"Invalid withdrawal amount or insufficient balance.\")\n",
        "\n",
        "    # Method to check balance\n",
        "    def check_balance(self):\n",
        "        print(f\"Current balance: rupees {self.__balance}\")\n",
        "\n",
        "# Create an instance of BankAccount\n",
        "account = BankAccount(\" Ranvijay kumar\", 1000)\n",
        "\n",
        "# Demonstrate deposit, withdraw, and check_balance methods\n",
        "account.check_balance()\n",
        "account.deposit(500)\n",
        "account.withdraw(200)\n",
        "account.check_balance()\n"
      ],
      "metadata": {
        "colab": {
          "base_uri": "https://localhost:8080/"
        },
        "id": "bOXpXmRzIKfx",
        "outputId": "6f939b3a-ce30-4d83-e4f2-b66799eed92f"
      },
      "execution_count": 17,
      "outputs": [
        {
          "output_type": "stream",
          "name": "stdout",
          "text": [
            "Current balance: rupees 1000\n",
            "Deposited balance 500. Current balance: rupees 1500\n",
            "Withdrew balace : 200. Current balance: rupees 1300\n",
            "Current balance: rupees 1300\n"
          ]
        }
      ]
    },
    {
      "cell_type": "code",
      "source": [
        "\n",
        "# Demonstrate runtime polymorphism using a method play() in a base class Instrument. Derive classes Guitar and Piano that implement their own version of play().\n",
        "# Base class Instrument\n",
        "class Instrument:\n",
        "    def play(self):\n",
        "        print(\"Playing instrument\")\n",
        "\n",
        "# Derived class Guitar\n",
        "class Guitar(Instrument):\n",
        "    def play(self):\n",
        "        print(\"Strumming the guitar\")\n",
        "\n",
        "# Derived class Piano\n",
        "class Piano(Instrument):\n",
        "    def play(self):\n",
        "        print(\"Playing the piano\")\n",
        "\n",
        "# Demonstrating runtime polymorphism\n",
        "def demonstrate_play(instrument):\n",
        "    instrument.play()\n",
        "\n",
        "# Create instances of Guitar and Piano\n",
        "guitar = Guitar()\n",
        "piano = Piano()\n",
        "\n",
        "\n",
        "demonstrate_play(guitar)\n",
        "demonstrate_play(piano)\n"
      ],
      "metadata": {
        "colab": {
          "base_uri": "https://localhost:8080/"
        },
        "id": "pB990fC2JaG1",
        "outputId": "e6de24c2-3fbd-4368-ffe1-eecff22de954"
      },
      "execution_count": 18,
      "outputs": [
        {
          "output_type": "stream",
          "name": "stdout",
          "text": [
            "Strumming the guitar\n",
            "Playing the piano\n"
          ]
        }
      ]
    },
    {
      "cell_type": "code",
      "source": [
        "# Create a class MathOperations with a class method add_numbers() to add two numbers and a static method subtract_numbers() to subtract two numbers.\n",
        "\n",
        "class MathOperations:\n",
        "\n",
        "    # Class method to add two numbers\n",
        "    @classmethod\n",
        "    def add_numbers(cls, a, b):\n",
        "        return a + b\n",
        "\n",
        "    # Static method to subtract two numbers\n",
        "    @staticmethod\n",
        "    def subtract_numbers(a, b):\n",
        "        return a - b\n",
        "\n",
        "# Using the class method to add numbers\n",
        "sum_result = MathOperations.add_numbers(10, 5)\n",
        "print(f\"Sum: {sum_result}\")  # Output: Sum: 15\n",
        "\n",
        "# Using the static method to subtract numbers\n",
        "difference_result = MathOperations.subtract_numbers(10, 5)\n",
        "print(f\"Difference: {difference_result}\")\n"
      ],
      "metadata": {
        "colab": {
          "base_uri": "https://localhost:8080/"
        },
        "id": "oxK2KqlLJ6wI",
        "outputId": "70f693ed-1d14-47e8-e476-a05ccdf8061b"
      },
      "execution_count": 19,
      "outputs": [
        {
          "output_type": "stream",
          "name": "stdout",
          "text": [
            "Sum: 15\n",
            "Difference: 5\n"
          ]
        }
      ]
    },
    {
      "cell_type": "code",
      "source": [
        "#  Implement a class Person with a class method to count the total number of persons created\n",
        "\n",
        "class Person:\n",
        "    total_persons = 0\n",
        "\n",
        "    def __init__(self, name, age):\n",
        "        self.name = name\n",
        "        self.age = age\n",
        "        Person.total_persons += 1\n",
        "\n",
        "    # Class method to get the total number of persons\n",
        "    @classmethod\n",
        "    def get_total_persons(cls):\n",
        "        return cls.total_persons\n",
        "\n",
        "# Create instances of Person\n",
        "person1 = Person(\"Ranvijay\", 30)\n",
        "person2 = Person(\"Rohit\", 25)\n",
        "person3 = Person(\"Raunak\", 35)\n",
        "\n",
        "print(f\"Total number of persons created: {Person.get_total_persons()}\")\n"
      ],
      "metadata": {
        "colab": {
          "base_uri": "https://localhost:8080/"
        },
        "id": "zCn4D1ZWKKQx",
        "outputId": "88e743b7-4dbb-4692-a040-ce713af93a81"
      },
      "execution_count": 20,
      "outputs": [
        {
          "output_type": "stream",
          "name": "stdout",
          "text": [
            "Total number of persons created: 3\n"
          ]
        }
      ]
    },
    {
      "cell_type": "code",
      "source": [
        "# Write a class Fraction with attributes numerator and denominator. Override the str method to display the fraction as \"numerator/denominator\".\n",
        "\n",
        "class Fraction:\n",
        "    def __init__(self, numerator, denominator):\n",
        "        self.numerator = numerator\n",
        "        self.denominator = denominator\n",
        "\n",
        "    def __str__(self):\n",
        "        return f\"{self.numerator}/{self.denominator}\"\n",
        "\n",
        "fraction = Fraction(3, 4)\n",
        "\n",
        "print(fraction)\n"
      ],
      "metadata": {
        "colab": {
          "base_uri": "https://localhost:8080/"
        },
        "id": "oJKEKcPuKqHp",
        "outputId": "854cc558-26df-4062-f7c6-870e5194d5cc"
      },
      "execution_count": 21,
      "outputs": [
        {
          "output_type": "stream",
          "name": "stdout",
          "text": [
            "3/4\n"
          ]
        }
      ]
    },
    {
      "cell_type": "code",
      "source": [
        "#  Demonstrate operator overloading by creating a class Vector and overriding the add method to add two vectors\n",
        "\n",
        "class Vector:\n",
        "    def __init__(self, x, y):\n",
        "        self.x = x\n",
        "        self.y = y\n",
        "\n",
        "    def __add__(self, other):\n",
        "        if isinstance(other, Vector):\n",
        "            return Vector(self.x + other.x, self.y + other.y)\n",
        "        return NotImplemented\n",
        "\n",
        "    def __str__(self):\n",
        "        return f\"({self.x}, {self.y})\"\n",
        "\n",
        "# Create two Vector objects\n",
        "vector1 = Vector(2, 3)\n",
        "vector2 = Vector(4, 5)\n",
        "\n",
        "result = vector1 + vector2\n",
        "\n",
        "print(f\"Result of addition: {result}\")\n"
      ],
      "metadata": {
        "colab": {
          "base_uri": "https://localhost:8080/"
        },
        "id": "osE_eLh3LRrH",
        "outputId": "3ff3b991-155f-4acf-8e44-b58f8b8109f9"
      },
      "execution_count": 22,
      "outputs": [
        {
          "output_type": "stream",
          "name": "stdout",
          "text": [
            "Result of addition: (6, 8)\n"
          ]
        }
      ]
    },
    {
      "cell_type": "code",
      "source": [
        "#  Create a class Person with attributes name and age. Add a method greet() that prints \"Hello, my name is {name} and I am {age} years old.\n",
        "\n",
        "class Person:\n",
        "    def __init__(self, name, age):\n",
        "        self.name = name\n",
        "        self.age = age\n",
        "\n",
        "    def greet(self):\n",
        "        print(f\"Hello, my name is {self.name} and I am {self.age} years old.\")\n",
        "\n",
        "person1 = Person(\"Ranvijay kumar\", 22)\n",
        "\n",
        "person1.greet()\n"
      ],
      "metadata": {
        "colab": {
          "base_uri": "https://localhost:8080/"
        },
        "id": "LuxTFMzYLsAb",
        "outputId": "b340030e-1d49-4632-852c-2091a872ff7f"
      },
      "execution_count": 23,
      "outputs": [
        {
          "output_type": "stream",
          "name": "stdout",
          "text": [
            "Hello, my name is Ranvijay kumar and I am 22 years old.\n"
          ]
        }
      ]
    },
    {
      "cell_type": "code",
      "source": [
        "#  Implement a class Student with attributes name and grades. Create a method average_grade() to compute the average of the grades\n",
        "\n",
        "class Student:\n",
        "    def __init__(self, name, grades):\n",
        "        self.name = name\n",
        "        self.grades = grades\n",
        "\n",
        "    def average_grade(self):\n",
        "        if len(self.grades) > 0:\n",
        "            return sum(self.grades) / len(self.grades)\n",
        "        else:\n",
        "            return 0\n",
        "\n",
        "student1 = Student(\"Ranvijay\", [90, 85, 88, 92, 80])\n",
        "\n",
        "average = student1.average_grade()\n",
        "print(f\"{student1.name}'s average grade is: {average:.2f}\")\n"
      ],
      "metadata": {
        "colab": {
          "base_uri": "https://localhost:8080/"
        },
        "id": "p5EOe24AMTKs",
        "outputId": "626daa55-f182-4f15-eb9b-8a79bdee710d"
      },
      "execution_count": 24,
      "outputs": [
        {
          "output_type": "stream",
          "name": "stdout",
          "text": [
            "Ranvijay's average grade is: 87.00\n"
          ]
        }
      ]
    },
    {
      "cell_type": "code",
      "source": [
        "# Create a class Rectangle with methods set_dimensions() to set the dimensions and area() to calculate the area.\n",
        "class Rectangle:\n",
        "    def __init__(self):\n",
        "        self.length = 0\n",
        "        self.width = 0\n",
        "\n",
        "    def set_dimensions(self, length, width):\n",
        "        self.length = length\n",
        "        self.width = width\n",
        "\n",
        "    def area(self):\n",
        "        return self.length * self.width\n",
        "\n",
        "rect = Rectangle()\n",
        "\n",
        "rect.set_dimensions(5, 3)\n",
        "\n",
        "print(f\"The area of the rectangle is: {rect.area()}\")\n"
      ],
      "metadata": {
        "colab": {
          "base_uri": "https://localhost:8080/"
        },
        "id": "jHv99gAYMzQX",
        "outputId": "892b31f8-97e7-4d41-875c-ef5bfa373d4f"
      },
      "execution_count": 25,
      "outputs": [
        {
          "output_type": "stream",
          "name": "stdout",
          "text": [
            "The area of the rectangle is: 15\n"
          ]
        }
      ]
    },
    {
      "cell_type": "code",
      "source": [
        "#  Create a class Employee with a method calculate_salary() that computes the salary based on hours worked and hourly rate. Create a derived class Manager that adds a bonus to the salary.\n",
        "class Employee:\n",
        "    def __init__(self, name, hours_worked, hourly_rate):\n",
        "        self.name = name\n",
        "        self.hours_worked = hours_worked\n",
        "        self.hourly_rate = hourly_rate\n",
        "\n",
        "    def calculate_salary(self):\n",
        "        return self.hours_worked * self.hourly_rate\n",
        "\n",
        "class Manager(Employee):\n",
        "    def __init__(self, name, hours_worked, hourly_rate, bonus):\n",
        "        super().__init__(name, hours_worked, hourly_rate)\n",
        "        self.bonus = bonus\n",
        "\n",
        "    # Overridden method to calculate salary with bonus for the manager\n",
        "    def calculate_salary(self):\n",
        "        base_salary = super().calculate_salary()\n",
        "        return base_salary + self.bonus\n",
        "\n",
        "employee1 = Employee(\"ranvijay\", 160, 25)\n",
        "\n",
        "# Calculate the salary for the employee\n",
        "employee_salary = employee1.calculate_salary()\n",
        "print(f\"{employee1.name}'s salary: {employee_salary} rupees\")\n",
        "\n",
        "# Create an instance of Manager\n",
        "manager1 = Manager(\"nitish\", 160, 30, 2000)\n",
        "\n",
        "# Calculate the salary for the manager\n",
        "manager_salary = manager1.calculate_salary()\n",
        "print(f\"{manager1.name}'s salary (with bonus): {manager_salary} rupees\")\n",
        "\n",
        "\n"
      ],
      "metadata": {
        "colab": {
          "base_uri": "https://localhost:8080/"
        },
        "id": "xj6SQhJ9NNk-",
        "outputId": "6eb9146a-d385-43d4-ea7a-762bdef6b6bb"
      },
      "execution_count": 26,
      "outputs": [
        {
          "output_type": "stream",
          "name": "stdout",
          "text": [
            "ranvijay's salary: 4000 rupees\n",
            "nitish's salary (with bonus): 6800 rupees\n"
          ]
        }
      ]
    },
    {
      "cell_type": "code",
      "source": [
        "#  Create a class Product with attributes name, price, and quantity. Implement a method total_price() that calculates the total price of the product.\n",
        "class Product:\n",
        "    def __init__(self, name, price, quantity):\n",
        "        self.name = name\n",
        "        self.price = price\n",
        "        self.quantity = quantity\n",
        "\n",
        "    def total_price(self):\n",
        "        return self.price * self.quantity\n",
        "\n",
        "product1 = Product(\"Laptop\", 1000, 3)\n",
        "\n",
        "total = product1.total_price()\n",
        "\n",
        "#  the total price\n",
        "print(f\"The total price of {product1.name} is: {total} rupees\")\n"
      ],
      "metadata": {
        "colab": {
          "base_uri": "https://localhost:8080/"
        },
        "id": "r-wFDyYLOMbG",
        "outputId": "7abd91fa-32af-4093-e4bd-834bd607a696"
      },
      "execution_count": 27,
      "outputs": [
        {
          "output_type": "stream",
          "name": "stdout",
          "text": [
            "The total price of Laptop is: 3000 rupees\n"
          ]
        }
      ]
    },
    {
      "cell_type": "code",
      "source": [
        "#  Create a class Animal with an abstract method sound(). Create two derived classes Cow and Sheep that implement the sound() method\n",
        "\n",
        "from abc import ABC, abstractmethod\n",
        "\n",
        "class Animal(ABC):\n",
        "\n",
        "    @abstractmethod\n",
        "    def sound(self):\n",
        "        pass\n",
        "\n",
        "class Cow(Animal):\n",
        "    def sound(self):\n",
        "        return \"Moo\"\n",
        "\n",
        "class Sheep(Animal):\n",
        "    def sound(self):\n",
        "        return \"Baa\"\n",
        "\n",
        "cow = Cow()\n",
        "sheep = Sheep()\n",
        "\n",
        "print(f\"Cow sound: {cow.sound()}\")\n",
        "print(f\"Sheep sound: {sheep.sound()}\")\n"
      ],
      "metadata": {
        "colab": {
          "base_uri": "https://localhost:8080/"
        },
        "id": "OLAJfx_EOniG",
        "outputId": "1f6c5e53-312b-48fc-80cf-5c1d41b290d3"
      },
      "execution_count": 28,
      "outputs": [
        {
          "output_type": "stream",
          "name": "stdout",
          "text": [
            "Cow sound: Moo\n",
            "Sheep sound: Baa\n"
          ]
        }
      ]
    },
    {
      "cell_type": "code",
      "source": [
        "# Create a class Book with attributes title, author, and year_published. Add a method get_book_info() that returns a formatted string with the book's details\n",
        "class Book:\n",
        "    def __init__(self, title, author, year_published):\n",
        "        self.title = title\n",
        "        self.author = author\n",
        "        self.year_published = year_published\n",
        "\n",
        "    def get_book_info(self):\n",
        "        return f\"Title: {self.title}\\nAuthor: {self.author}\\nYear Published: {self.year_published}\"\n",
        "\n",
        "book1 = Book(\"Python Language Reference Manua\", \"Guido van Rossum and Fred L\", 2019)\n",
        "\n",
        "book_info = book1.get_book_info()\n",
        "\n",
        "print(book_info)\n"
      ],
      "metadata": {
        "colab": {
          "base_uri": "https://localhost:8080/"
        },
        "id": "IbFVynDkPVAj",
        "outputId": "d732637a-e850-4abb-bfe2-39e058971cde"
      },
      "execution_count": 30,
      "outputs": [
        {
          "output_type": "stream",
          "name": "stdout",
          "text": [
            "Title: Python Language Reference Manua\n",
            "Author: Guido van Rossum and Fred L\n",
            "Year Published: 2019\n"
          ]
        }
      ]
    },
    {
      "cell_type": "code",
      "source": [
        "#  Create a class House with attributes address and price. Create a derived class Mansion that adds an attribute number_of_rooms\n",
        "# Base class House\n",
        "class House:\n",
        "    def __init__(self, address, price):\n",
        "        self.address = address\n",
        "        self.price = price\n",
        "\n",
        "    def get_info(self):\n",
        "        return f\"Address: {self.address}\\nPrice: {self.price} rupees\"\n",
        "\n",
        "class Mansion(House):\n",
        "    def __init__(self, address, price, number_of_rooms):\n",
        "        super().__init__(address, price)\n",
        "        self.number_of_rooms = number_of_rooms\n",
        "\n",
        "    def get_info(self):\n",
        "        base_info = super().get_info()\n",
        "        return f\"{base_info}\\nNumber of Rooms: {self.number_of_rooms}\"\n",
        "\n",
        "house1 = House(\"123 Main St\", 250000)\n",
        "\n",
        "mansion1 = Mansion(\"456 Luxury Ave\", 5000000, 10)\n",
        "\n",
        "print(\"House Information:\")\n",
        "print(house1.get_info())\n",
        "print()\n",
        "\n",
        "print(\"Mansion Information:\")\n",
        "print(mansion1.get_info())\n"
      ],
      "metadata": {
        "colab": {
          "base_uri": "https://localhost:8080/"
        },
        "id": "7G4NnsDDQiqU",
        "outputId": "c5b5b618-f2d6-447d-cb76-b24d5827dd63"
      },
      "execution_count": 32,
      "outputs": [
        {
          "output_type": "stream",
          "name": "stdout",
          "text": [
            "House Information:\n",
            "Address: 123 Main St\n",
            "Price: 250000 rupees\n",
            "\n",
            "Mansion Information:\n",
            "Address: 456 Luxury Ave\n",
            "Price: 5000000 rupees\n",
            "Number of Rooms: 10\n"
          ]
        }
      ]
    }
  ]
}